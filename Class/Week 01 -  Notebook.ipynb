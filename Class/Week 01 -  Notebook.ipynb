{
 "cells": [
  {
   "cell_type": "markdown",
   "metadata": {},
   "source": [
    "# Week 01 - Notebook\n",
    "This notebook contains some introductory notes for CS 439. Data Science is the \"Science\" of learning and predicting from data. Data Science is a lot more than Machine Learning. ML is part of it, but for the most part we need to understand what question we'd like the answer to, what data can help us answer that question, finding data, cleaning data, modeling data, predicting future etc. Jupyter notebook is one of the best ways to learn data science. It combines documentation, code and visualizations. In this notebook, we will demo the data set of the CS 439 Spring Semester. What can we learn from this data set?\n",
    "You will learn how to install and run experiments in Data Science using ipYthon notebooks. Let us take a look at our own data set first."
   ]
  },
  {
   "cell_type": "markdown",
   "metadata": {},
   "source": [
    "## Read Data Files"
   ]
  },
  {
   "cell_type": "code",
   "execution_count": null,
   "metadata": {},
   "outputs": [],
   "source": [
    "# I downloaded the CS 439 registration information from Rutgers site. They download as excel/csv files\n",
    "\n",
    "# import the libraries necessary to process this data\n",
    "import pandas as pd\n",
    "import numpy as np\n",
    "import matplotlib.pyplot as plt\n",
    "pd.__version__\n",
    "%matplotlib inline\n",
    "\n",
    "# read the two roster files\n",
    "df = pd.read_excel(\"data/excelSectionReportAllSections (4).xls\")\n",
    "\n",
    "#section1=pd.read_csv(\"data/439_01.csv\")\n",
    "#section2=pd.read_csv(\"data/439_02.csv\")\n",
    "#df=pd.concat([section1,section2])\n",
    "\n",
    "df"
   ]
  },
  {
   "cell_type": "markdown",
   "metadata": {},
   "source": [
    "### Critical Information about the Roster"
   ]
  },
  {
   "cell_type": "code",
   "execution_count": null,
   "metadata": {},
   "outputs": [],
   "source": [
    "# Find out the shape of the data frame\n",
    "df.shape\n",
    "# How much memory is used by the data frame?\n",
    "#df.info()\n",
    "df.memory_usage()\n",
    "# What are the columns in the data frame?\n",
    "df.columns\n",
    "# What are the data types in each column?\n",
    "\n",
    "# What is the index of the data frame?\n",
    "df.index"
   ]
  },
  {
   "cell_type": "markdown",
   "metadata": {},
   "source": [
    "## A function to find the distribution"
   ]
  },
  {
   "cell_type": "code",
   "execution_count": null,
   "metadata": {},
   "outputs": [],
   "source": [
    "# what is the distribution of the majors?\n",
    "def count_elements(seq) -> dict:\n",
    "    \"\"\"Tally elements from `seq`.\"\"\"\n",
    "    hist = {}\n",
    "    for i in seq:\n",
    "        hist[i] = hist.get(i, 0) + 1\n",
    "    return hist\n",
    "\n",
    "counted = count_elements(df['Curric1'])\n",
    "counted"
   ]
  },
  {
   "cell_type": "code",
   "execution_count": null,
   "metadata": {},
   "outputs": [],
   "source": [
    "# what we did above can also be done with Counter.\n",
    "# Counter\tdict subclass for counting hashable objects\n",
    "from collections import Counter\n",
    "counted = Counter(df['Curric1'])\n",
    "counted"
   ]
  },
  {
   "cell_type": "markdown",
   "metadata": {},
   "source": [
    "### Distribution of Majors"
   ]
  },
  {
   "cell_type": "code",
   "execution_count": null,
   "metadata": {},
   "outputs": [],
   "source": [
    "# what is the ditribution of the majors?\n",
    "df['Curric1'].hist(bins=10)"
   ]
  },
  {
   "cell_type": "code",
   "execution_count": null,
   "metadata": {},
   "outputs": [],
   "source": [
    "# lets take a look at a way to plot dictionaries by key and values\n",
    "# what is the distribution of the majors?\n",
    "\n",
    "def count_elements(seq) -> dict:\n",
    "     hist = {}\n",
    "     for i in seq:\n",
    "         hist[i] = hist.get(i, 0) + 1\n",
    "     return hist\n",
    "\n",
    "counted = count_elements(df['Curric1'])\n",
    "counted\n",
    "\n",
    "# plot the dictionary \n",
    "import matplotlib.pyplot as plt\n",
    "\n",
    "plt.bar(range(len(counted)), counted.values(), align='center')\n",
    "plt.xticks(range(len(counted)), list(counted.keys()))\n",
    "plt.show()\n",
    "\n",
    "# 332-ECE, 198-CS, 640-Math, 540-IndustrialSystemsEng  125-BioMedEng, \n",
    "# 146-CellBioNeuro, 1-??, 390-??, 567-JournalismMedia, 547-It&Informatics, 750-Physics, 650-MechAerospaceEng"
   ]
  },
  {
   "cell_type": "markdown",
   "metadata": {},
   "source": [
    "### Distribution of the Minors"
   ]
  },
  {
   "cell_type": "code",
   "execution_count": null,
   "metadata": {},
   "outputs": [],
   "source": [
    "# what is the distribution of the minors?\n",
    "\n",
    "def count_elements(seq) -> dict:\n",
    "     hist = {}\n",
    "     for i in seq:\n",
    "         hist[i] = hist.get(i, 0) + 1\n",
    "     return hist\n",
    "\n",
    "counted = count_elements(df['Curric2'])\n",
    "print(counted)\n",
    "\n",
    "\n",
    "# plot the dictionary \n",
    "import matplotlib.pyplot as plt\n",
    "\n",
    "plt.bar(range(len(counted)), counted.values(), align='center')\n",
    "plt.xticks(range(len(counted)), list(counted.keys()))\n",
    "plt.show()\n",
    "\n",
    "# not everyone has a minor, so we our plot is messed up. We need to clean up the counted by removing any key that is \"nan\"\n",
    "# ????"
   ]
  },
  {
   "cell_type": "markdown",
   "metadata": {},
   "source": [
    "### Distribution of last names in Class"
   ]
  },
  {
   "cell_type": "code",
   "execution_count": null,
   "metadata": {},
   "outputs": [],
   "source": [
    "# what are the distinct names in the class?\n",
    "students=df['Student']\n",
    "# student names come in the form :  Last First Middle_Initial\n",
    "# create an array of student names\n",
    "array=students.values\n",
    "# create an array of student last_names\n",
    "lastnames = []\n",
    "for i in range(len(array)):\n",
    "    tmp = str(array[i]).split()\n",
    "    lastnames.append(tmp[0])\n",
    "lastnames.sort()\n",
    "print(lastnames)"
   ]
  },
  {
   "cell_type": "markdown",
   "metadata": {},
   "source": [
    "## Unique Last Names"
   ]
  },
  {
   "cell_type": "code",
   "execution_count": null,
   "metadata": {},
   "outputs": [],
   "source": [
    "lastnameset = set(lastnames)\n",
    "len(lastnameset)"
   ]
  },
  {
   "cell_type": "markdown",
   "metadata": {},
   "source": [
    "## Counts of Last Names"
   ]
  },
  {
   "cell_type": "code",
   "execution_count": null,
   "metadata": {},
   "outputs": [],
   "source": [
    "# what we did above can also be done with Counter.\n",
    "# Counter\tdict subclass for counting hashable objects\n",
    "from collections import Counter\n",
    "counted = Counter(lastnames)\n",
    "counted"
   ]
  },
  {
   "cell_type": "markdown",
   "metadata": {},
   "source": [
    "### Distribution of student first names"
   ]
  },
  {
   "cell_type": "code",
   "execution_count": null,
   "metadata": {},
   "outputs": [],
   "source": [
    "# create an array of student First_names\n",
    "firstnames = []\n",
    "for i in range(len(array)):\n",
    "    tmp = str(array[i]).split()\n",
    "    if (len(tmp)==2):\n",
    "       firstnames.append(tmp[1])\n",
    "# sort the array of first name\n",
    "firstnames.sort()\n",
    "print(firstnames)"
   ]
  },
  {
   "cell_type": "markdown",
   "metadata": {},
   "source": [
    "### Count the First Names"
   ]
  },
  {
   "cell_type": "code",
   "execution_count": null,
   "metadata": {},
   "outputs": [],
   "source": [
    "# what we did above can also be done with Counter.\n",
    "# Counter\tdict subclass for counting hashable objects\n",
    "from collections import Counter\n",
    "counted = Counter(firstnames)\n",
    "counted"
   ]
  },
  {
   "cell_type": "markdown",
   "metadata": {},
   "source": [
    "### Distribution of the year of graduation"
   ]
  },
  {
   "cell_type": "code",
   "execution_count": null,
   "metadata": {},
   "outputs": [],
   "source": [
    "# what is the distribution of the year of graduation?\n",
    ">>> def count_elements(seq) -> dict:\n",
    "...     \"\"\"Tally elements from `seq`.\"\"\"\n",
    "...     hist = {}\n",
    "...     for i in seq:\n",
    "...         hist[i] = hist.get(i, 0) + 1\n",
    "...     return hist\n",
    "\n",
    ">>> counted = count_elements(df['Comp'])\n",
    ">>> counted\n",
    "\n",
    "# plot the dictionary \n",
    "import matplotlib.pyplot as plt\n",
    "\n",
    "plt.bar(range(len(counted)), counted.values(), align='center')\n",
    "plt.xticks(range(len(counted)), list(counted.keys()))\n",
    "plt.show()\n"
   ]
  },
  {
   "cell_type": "markdown",
   "metadata": {},
   "source": [
    "## Data Science Question"
   ]
  },
  {
   "cell_type": "markdown",
   "metadata": {},
   "source": [
    "how can I find male/female distribution? The roster does not give me that information.\n",
    "solution: Train a ML model to guess if a given name is more likely to be a male or female name\n",
    "now I can market information that can be of interest"
   ]
  },
  {
   "cell_type": "markdown",
   "metadata": {},
   "source": [
    "### Using a gender Geusser"
   ]
  },
  {
   "cell_type": "code",
   "execution_count": null,
   "metadata": {},
   "outputs": [],
   "source": [
    "import gender_guesser.detector as gender\n",
    "d = gender.Detector()\n",
    "print(d.get_gender(\"Andy\"))\n",
    "\n",
    "# possible outcomes - male, female, an·drog·y·nous(male-female), mostly-male, mostly-female"
   ]
  },
  {
   "cell_type": "markdown",
   "metadata": {},
   "source": [
    "## Guess the Genders of CS439"
   ]
  },
  {
   "cell_type": "code",
   "execution_count": null,
   "metadata": {},
   "outputs": [],
   "source": [
    "import csv\n",
    "csvfile = open('temp.csv', 'w', newline='')\n",
    "csvwriter = csv.writer(csvfile, delimiter=',')\n",
    "\n",
    "d = gender.Detector()\n",
    "combined = ''\n",
    " \n",
    "for val in firstnames:\n",
    "    name = str(val)\n",
    "    print(name.lower().capitalize() + \"  \" + d.get_gender(name.lower().capitalize()))\n",
    "    csvwriter.writerow([name.lower().capitalize(), d.get_gender(name.lower().capitalize())])\n",
    "\n",
    "csvfile.close()"
   ]
  },
  {
   "cell_type": "markdown",
   "metadata": {},
   "source": [
    "### Counts of Gender Guessor"
   ]
  },
  {
   "cell_type": "code",
   "execution_count": null,
   "metadata": {},
   "outputs": [],
   "source": [
    "# determine the size of the groups\n",
    "df2 = pd.read_csv(\"temp.csv\")\n",
    "print('male ' + str(df2.groupby('unknown').get_group('male').size))\n",
    "print('female ' + str(df2.groupby('unknown').get_group('female').size))\n",
    "print('unknown ' + str(df2.groupby('unknown').get_group('unknown').size))\n",
    "print('andy ' + str(df2.groupby('unknown').get_group('andy').size))"
   ]
  },
  {
   "cell_type": "code",
   "execution_count": null,
   "metadata": {},
   "outputs": [],
   "source": []
  }
 ],
 "metadata": {
  "kernelspec": {
   "display_name": "Python 3",
   "language": "python",
   "name": "python3"
  },
  "language_info": {
   "codemirror_mode": {
    "name": "ipython",
    "version": 3
   },
   "file_extension": ".py",
   "mimetype": "text/x-python",
   "name": "python",
   "nbconvert_exporter": "python",
   "pygments_lexer": "ipython3",
   "version": "3.9.5"
  }
 },
 "nbformat": 4,
 "nbformat_minor": 4
}
